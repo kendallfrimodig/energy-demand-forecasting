{
 "cells": [
  {
   "cell_type": "markdown",
   "id": "72c5bc6b-8099-465e-b939-d31a39b888c9",
   "metadata": {
    "tags": []
   },
   "source": [
    "# Energy Forecasting for the Texas Power grid\n",
    "\n",
    "**2/11/2022**\n",
    "\n",
    "---\n",
    "\n",
    "<p style=\"line-height:2\">\n",
    "\n",
    "\n",
    "Today I'm going to walk though a team project I recently participated in, focusing on energy demand forecasting. Texas was the subject matter, as it operates as\n",
    "an independent energy grid (other states of US connected) and recently experienced a near meltdown in its basic generating capacity, as a result of the\n",
    "winter storm of Valentines day 2021. Though the event was unprecedented, neighboring states fared the storm without the loss of life seen in Texas.\n",
    "Me and my teammates thought a review of their preparedness tools might present an opportunity for positive change.\n",
    "\n",
    "\n",
    "</p><br>\n",
    "\n",
    "\n",
    "\n",
    "\n",
    "\n",
    "---\n",
    "### Scope\n",
    "\n",
    "<p style=\"line-height:2\">\n",
    "\n",
    "\n",
    "Energy must be produced in real time, to match demand - otherwise load shedding is necessary (temporary or prolonged blackouts) and as you might guess\n",
    "one person does not have the authority to flip the switch for select plants in such a time sensitive situation. If the demand is not sufficiently\n",
    "decreased in timed, the web of power-plants will collectively fall between This is a tricky line to walk  since coal or natural gas power plants aren't acquiring their resources\n",
    "on-site\n",
    "\n",
    "\n",
    "</p><br>\n",
    "\n",
    "\n",
    "\n",
    "\n",
    "\n",
    "---\n",
    "### Relevance\n",
    "\n",
    "Before I get into some of the reasons an updated forecasting tool might better prepare Texas for another emergency, its worth highlighting that this was\n",
    "on for the books,\n",
    "\n",
    "![The 7 day average departure for the February](https://pbs.twimg.com/media/Eu2IqLqXYAMbkkb?format=jpg&name=large)\n",
    "\n",
    "\n",
    "\n",
    "---\n",
    "### Energy Prices\n",
    "\n",
    "\n",
    "Accurate predictions of overall energy demand with respect to a states generation ceiling are crucial, and the rate of change (delta) of demand play a\n",
    "significant role in price. Although your average Texan will pay a agreed upon rate, for protection against such price gouging, many are offered access to\n",
    "market electricity pricing and indeed sign up. If you have 2 electric cars at home, utilizing the lower cost at night could save you alot of cash.  \n",
    "\n",
    "\n",
    "![average price for electricity in Texas, Feb. 2021](https://www.eia.gov/todayinenergy/images/2022.01.07/main.svg)\n",
    "\n",
    "To our knowledge, the energy information administration (EIA) is the provider of energy demand forecasts for individual providers."
   ]
  },
  {
   "cell_type": "code",
   "execution_count": null,
   "id": "dc3f18f6-721e-45d6-bf45-caabac4968cf",
   "metadata": {},
   "outputs": [],
   "source": []
  }
 ],
 "metadata": {
  "kernelspec": {
   "display_name": "Python 3 (ipykernel)",
   "language": "python",
   "name": "python3"
  },
  "language_info": {
   "codemirror_mode": {
    "name": "ipython",
    "version": 3
   },
   "file_extension": ".py",
   "mimetype": "text/x-python",
   "name": "python",
   "nbconvert_exporter": "python",
   "pygments_lexer": "ipython3",
   "version": "3.9.7"
  }
 },
 "nbformat": 4,
 "nbformat_minor": 5
}
